{
 "cells": [
  {
   "cell_type": "code",
   "execution_count": 1,
   "id": "d26c458e",
   "metadata": {},
   "outputs": [],
   "source": [
    "import pandas as pd"
   ]
  },
  {
   "cell_type": "code",
   "execution_count": 2,
   "id": "3fd19c14",
   "metadata": {},
   "outputs": [],
   "source": [
    "import io"
   ]
  },
  {
   "cell_type": "code",
   "execution_count": 3,
   "id": "cd797c41",
   "metadata": {},
   "outputs": [],
   "source": [
    "csv_data = open(r'Data/10876.23andme.8989.csv').read().replace('\\r\\n', '\\n')"
   ]
  },
  {
   "cell_type": "code",
   "execution_count": 4,
   "id": "2ac1cc26",
   "metadata": {},
   "outputs": [],
   "source": [
    "df = pd.read_csv(io.StringIO(csv_data),  sep='\\t',  lineterminator='\\n', low_memory=False)"
   ]
  },
  {
   "cell_type": "code",
   "execution_count": 5,
   "id": "acf0c324",
   "metadata": {},
   "outputs": [
    {
     "data": {
      "text/html": [
       "<div>\n",
       "<style scoped>\n",
       "    .dataframe tbody tr th:only-of-type {\n",
       "        vertical-align: middle;\n",
       "    }\n",
       "\n",
       "    .dataframe tbody tr th {\n",
       "        vertical-align: top;\n",
       "    }\n",
       "\n",
       "    .dataframe thead th {\n",
       "        text-align: right;\n",
       "    }\n",
       "</style>\n",
       "<table border=\"1\" class=\"dataframe\">\n",
       "  <thead>\n",
       "    <tr style=\"text-align: right;\">\n",
       "      <th></th>\n",
       "      <th>rsid</th>\n",
       "      <th>chromosome</th>\n",
       "      <th>position</th>\n",
       "      <th>genotype</th>\n",
       "    </tr>\n",
       "  </thead>\n",
       "  <tbody>\n",
       "    <tr>\n",
       "      <th>0</th>\n",
       "      <td>rs548049170</td>\n",
       "      <td>1</td>\n",
       "      <td>69869</td>\n",
       "      <td>TT</td>\n",
       "    </tr>\n",
       "    <tr>\n",
       "      <th>1</th>\n",
       "      <td>rs13328684</td>\n",
       "      <td>1</td>\n",
       "      <td>74792</td>\n",
       "      <td>--</td>\n",
       "    </tr>\n",
       "    <tr>\n",
       "      <th>2</th>\n",
       "      <td>rs9283150</td>\n",
       "      <td>1</td>\n",
       "      <td>565508</td>\n",
       "      <td>AA</td>\n",
       "    </tr>\n",
       "    <tr>\n",
       "      <th>3</th>\n",
       "      <td>i713426</td>\n",
       "      <td>1</td>\n",
       "      <td>726912</td>\n",
       "      <td>--</td>\n",
       "    </tr>\n",
       "    <tr>\n",
       "      <th>4</th>\n",
       "      <td>rs116587930</td>\n",
       "      <td>1</td>\n",
       "      <td>727841</td>\n",
       "      <td>GG</td>\n",
       "    </tr>\n",
       "  </tbody>\n",
       "</table>\n",
       "</div>"
      ],
      "text/plain": [
       "          rsid chromosome  position genotype\n",
       "0  rs548049170          1     69869       TT\n",
       "1   rs13328684          1     74792       --\n",
       "2    rs9283150          1    565508       AA\n",
       "3      i713426          1    726912       --\n",
       "4  rs116587930          1    727841       GG"
      ]
     },
     "execution_count": 5,
     "metadata": {},
     "output_type": "execute_result"
    }
   ],
   "source": [
    "df.head()"
   ]
  },
  {
   "cell_type": "code",
   "execution_count": 51,
   "id": "7894802b",
   "metadata": {
    "scrolled": true
   },
   "outputs": [
    {
     "name": "stdout",
     "output_type": "stream",
     "text": [
      "<class 'pandas.core.frame.DataFrame'>\n",
      "RangeIndex: 638463 entries, 0 to 638462\n",
      "Data columns (total 4 columns):\n",
      " #   Column      Non-Null Count   Dtype \n",
      "---  ------      --------------   ----- \n",
      " 0   rsid        638463 non-null  object\n",
      " 1   chromosome  638463 non-null  object\n",
      " 2   position    638463 non-null  int64 \n",
      " 3   genotype    638463 non-null  object\n",
      "dtypes: int64(1), object(3)\n",
      "memory usage: 19.5+ MB\n"
     ]
    }
   ],
   "source": [
    "df.info()"
   ]
  },
  {
   "cell_type": "markdown",
   "id": "a284d72a",
   "metadata": {},
   "source": [
    "номер 1"
   ]
  },
  {
   "cell_type": "code",
   "execution_count": 6,
   "id": "685a38e3",
   "metadata": {},
   "outputs": [
    {
     "data": {
      "text/html": [
       "<div>\n",
       "<style scoped>\n",
       "    .dataframe tbody tr th:only-of-type {\n",
       "        vertical-align: middle;\n",
       "    }\n",
       "\n",
       "    .dataframe tbody tr th {\n",
       "        vertical-align: top;\n",
       "    }\n",
       "\n",
       "    .dataframe thead th {\n",
       "        text-align: right;\n",
       "    }\n",
       "</style>\n",
       "<table border=\"1\" class=\"dataframe\">\n",
       "  <thead>\n",
       "    <tr style=\"text-align: right;\">\n",
       "      <th></th>\n",
       "      <th>rsid</th>\n",
       "      <th>chromosome</th>\n",
       "      <th>position</th>\n",
       "      <th>genotype</th>\n",
       "    </tr>\n",
       "  </thead>\n",
       "  <tbody>\n",
       "    <tr>\n",
       "      <th>491719</th>\n",
       "      <td>rs12913832</td>\n",
       "      <td>15</td>\n",
       "      <td>28365618</td>\n",
       "      <td>AG</td>\n",
       "    </tr>\n",
       "  </tbody>\n",
       "</table>\n",
       "</div>"
      ],
      "text/plain": [
       "              rsid chromosome  position genotype\n",
       "491719  rs12913832         15  28365618       AG"
      ]
     },
     "execution_count": 6,
     "metadata": {},
     "output_type": "execute_result"
    }
   ],
   "source": [
    "df.loc[df['rsid'] == 'rs12913832']"
   ]
  },
  {
   "cell_type": "code",
   "execution_count": 7,
   "id": "41c27d04",
   "metadata": {},
   "outputs": [
    {
     "data": {
      "text/html": [
       "<div>\n",
       "<style scoped>\n",
       "    .dataframe tbody tr th:only-of-type {\n",
       "        vertical-align: middle;\n",
       "    }\n",
       "\n",
       "    .dataframe tbody tr th {\n",
       "        vertical-align: top;\n",
       "    }\n",
       "\n",
       "    .dataframe thead th {\n",
       "        text-align: right;\n",
       "    }\n",
       "</style>\n",
       "<table border=\"1\" class=\"dataframe\">\n",
       "  <thead>\n",
       "    <tr style=\"text-align: right;\">\n",
       "      <th></th>\n",
       "      <th>rsid</th>\n",
       "      <th>chromosome</th>\n",
       "      <th>position</th>\n",
       "      <th>genotype</th>\n",
       "    </tr>\n",
       "  </thead>\n",
       "  <tbody>\n",
       "    <tr>\n",
       "      <th>491679</th>\n",
       "      <td>rs1800407</td>\n",
       "      <td>15</td>\n",
       "      <td>28230318</td>\n",
       "      <td>CC</td>\n",
       "    </tr>\n",
       "  </tbody>\n",
       "</table>\n",
       "</div>"
      ],
      "text/plain": [
       "             rsid chromosome  position genotype\n",
       "491679  rs1800407         15  28230318       CC"
      ]
     },
     "execution_count": 7,
     "metadata": {},
     "output_type": "execute_result"
    }
   ],
   "source": [
    "df.loc[df['rsid'] == 'rs1800407']"
   ]
  },
  {
   "cell_type": "code",
   "execution_count": 8,
   "id": "900e50a1",
   "metadata": {},
   "outputs": [
    {
     "data": {
      "text/html": [
       "<div>\n",
       "<style scoped>\n",
       "    .dataframe tbody tr th:only-of-type {\n",
       "        vertical-align: middle;\n",
       "    }\n",
       "\n",
       "    .dataframe tbody tr th {\n",
       "        vertical-align: top;\n",
       "    }\n",
       "\n",
       "    .dataframe thead th {\n",
       "        text-align: right;\n",
       "    }\n",
       "</style>\n",
       "<table border=\"1\" class=\"dataframe\">\n",
       "  <thead>\n",
       "    <tr style=\"text-align: right;\">\n",
       "      <th></th>\n",
       "      <th>rsid</th>\n",
       "      <th>chromosome</th>\n",
       "      <th>position</th>\n",
       "      <th>genotype</th>\n",
       "    </tr>\n",
       "  </thead>\n",
       "  <tbody>\n",
       "    <tr>\n",
       "      <th>486530</th>\n",
       "      <td>rs12896399</td>\n",
       "      <td>14</td>\n",
       "      <td>92773663</td>\n",
       "      <td>GT</td>\n",
       "    </tr>\n",
       "  </tbody>\n",
       "</table>\n",
       "</div>"
      ],
      "text/plain": [
       "              rsid chromosome  position genotype\n",
       "486530  rs12896399         14  92773663       GT"
      ]
     },
     "execution_count": 8,
     "metadata": {},
     "output_type": "execute_result"
    }
   ],
   "source": [
    "df.loc[df['rsid'] == 'rs12896399']"
   ]
  },
  {
   "cell_type": "code",
   "execution_count": 9,
   "id": "85b72b60",
   "metadata": {},
   "outputs": [
    {
     "data": {
      "text/html": [
       "<div>\n",
       "<style scoped>\n",
       "    .dataframe tbody tr th:only-of-type {\n",
       "        vertical-align: middle;\n",
       "    }\n",
       "\n",
       "    .dataframe tbody tr th {\n",
       "        vertical-align: top;\n",
       "    }\n",
       "\n",
       "    .dataframe thead th {\n",
       "        text-align: right;\n",
       "    }\n",
       "</style>\n",
       "<table border=\"1\" class=\"dataframe\">\n",
       "  <thead>\n",
       "    <tr style=\"text-align: right;\">\n",
       "      <th></th>\n",
       "      <th>rsid</th>\n",
       "      <th>chromosome</th>\n",
       "      <th>position</th>\n",
       "      <th>genotype</th>\n",
       "    </tr>\n",
       "  </thead>\n",
       "  <tbody>\n",
       "    <tr>\n",
       "      <th>191616</th>\n",
       "      <td>rs16891982</td>\n",
       "      <td>5</td>\n",
       "      <td>33951693</td>\n",
       "      <td>GG</td>\n",
       "    </tr>\n",
       "  </tbody>\n",
       "</table>\n",
       "</div>"
      ],
      "text/plain": [
       "              rsid chromosome  position genotype\n",
       "191616  rs16891982          5  33951693       GG"
      ]
     },
     "execution_count": 9,
     "metadata": {},
     "output_type": "execute_result"
    }
   ],
   "source": [
    "df.loc[df['rsid'] == 'rs16891982']"
   ]
  },
  {
   "cell_type": "code",
   "execution_count": 10,
   "id": "29d21354",
   "metadata": {},
   "outputs": [
    {
     "data": {
      "text/html": [
       "<div>\n",
       "<style scoped>\n",
       "    .dataframe tbody tr th:only-of-type {\n",
       "        vertical-align: middle;\n",
       "    }\n",
       "\n",
       "    .dataframe tbody tr th {\n",
       "        vertical-align: top;\n",
       "    }\n",
       "\n",
       "    .dataframe thead th {\n",
       "        text-align: right;\n",
       "    }\n",
       "</style>\n",
       "<table border=\"1\" class=\"dataframe\">\n",
       "  <thead>\n",
       "    <tr style=\"text-align: right;\">\n",
       "      <th></th>\n",
       "      <th>rsid</th>\n",
       "      <th>chromosome</th>\n",
       "      <th>position</th>\n",
       "      <th>genotype</th>\n",
       "    </tr>\n",
       "  </thead>\n",
       "  <tbody>\n",
       "    <tr>\n",
       "      <th>407319</th>\n",
       "      <td>rs1393350</td>\n",
       "      <td>11</td>\n",
       "      <td>89011046</td>\n",
       "      <td>AA</td>\n",
       "    </tr>\n",
       "  </tbody>\n",
       "</table>\n",
       "</div>"
      ],
      "text/plain": [
       "             rsid chromosome  position genotype\n",
       "407319  rs1393350         11  89011046       AA"
      ]
     },
     "execution_count": 10,
     "metadata": {},
     "output_type": "execute_result"
    }
   ],
   "source": [
    "df.loc[df['rsid'] == 'rs1393350']"
   ]
  },
  {
   "cell_type": "code",
   "execution_count": 11,
   "id": "e98a0d34",
   "metadata": {},
   "outputs": [
    {
     "data": {
      "text/html": [
       "<div>\n",
       "<style scoped>\n",
       "    .dataframe tbody tr th:only-of-type {\n",
       "        vertical-align: middle;\n",
       "    }\n",
       "\n",
       "    .dataframe tbody tr th {\n",
       "        vertical-align: top;\n",
       "    }\n",
       "\n",
       "    .dataframe thead th {\n",
       "        text-align: right;\n",
       "    }\n",
       "</style>\n",
       "<table border=\"1\" class=\"dataframe\">\n",
       "  <thead>\n",
       "    <tr style=\"text-align: right;\">\n",
       "      <th></th>\n",
       "      <th>rsid</th>\n",
       "      <th>chromosome</th>\n",
       "      <th>position</th>\n",
       "      <th>genotype</th>\n",
       "    </tr>\n",
       "  </thead>\n",
       "  <tbody>\n",
       "    <tr>\n",
       "      <th>220862</th>\n",
       "      <td>rs12203592</td>\n",
       "      <td>6</td>\n",
       "      <td>396321</td>\n",
       "      <td>CC</td>\n",
       "    </tr>\n",
       "  </tbody>\n",
       "</table>\n",
       "</div>"
      ],
      "text/plain": [
       "              rsid chromosome  position genotype\n",
       "220862  rs12203592          6    396321       CC"
      ]
     },
     "execution_count": 11,
     "metadata": {},
     "output_type": "execute_result"
    }
   ],
   "source": [
    "df.loc[df['rsid'] == 'rs12203592']"
   ]
  },
  {
   "cell_type": "markdown",
   "id": "e6de04d0",
   "metadata": {},
   "source": [
    "![Title](PicturesForMainor/pic12.jpg)"
   ]
  },
  {
   "cell_type": "markdown",
   "id": "a6e92fce",
   "metadata": {},
   "source": [
    "Получаем, что у человека скорее всего карие глаза"
   ]
  },
  {
   "cell_type": "markdown",
   "id": "81cd0dab",
   "metadata": {},
   "source": [
    "номер 2"
   ]
  },
  {
   "cell_type": "code",
   "execution_count": 107,
   "id": "00965bf0",
   "metadata": {},
   "outputs": [
    {
     "data": {
      "text/html": [
       "<div>\n",
       "<style scoped>\n",
       "    .dataframe tbody tr th:only-of-type {\n",
       "        vertical-align: middle;\n",
       "    }\n",
       "\n",
       "    .dataframe tbody tr th {\n",
       "        vertical-align: top;\n",
       "    }\n",
       "\n",
       "    .dataframe thead th {\n",
       "        text-align: right;\n",
       "    }\n",
       "</style>\n",
       "<table border=\"1\" class=\"dataframe\">\n",
       "  <thead>\n",
       "    <tr style=\"text-align: right;\">\n",
       "      <th></th>\n",
       "      <th>rsid</th>\n",
       "      <th>chromosome</th>\n",
       "      <th>position</th>\n",
       "      <th>genotype</th>\n",
       "    </tr>\n",
       "  </thead>\n",
       "  <tbody>\n",
       "    <tr>\n",
       "      <th>31724</th>\n",
       "      <td>rs6025</td>\n",
       "      <td>1</td>\n",
       "      <td>169519049</td>\n",
       "      <td>CC</td>\n",
       "    </tr>\n",
       "  </tbody>\n",
       "</table>\n",
       "</div>"
      ],
      "text/plain": [
       "         rsid chromosome   position genotype\n",
       "31724  rs6025          1  169519049       CC"
      ]
     },
     "execution_count": 107,
     "metadata": {},
     "output_type": "execute_result"
    }
   ],
   "source": [
    "df.loc[df['rsid'] == 'rs6025']"
   ]
  },
  {
   "cell_type": "markdown",
   "id": "2d11f936",
   "metadata": {},
   "source": [
    "![Title](PicturesForMainor/pic8.jpg)"
   ]
  },
  {
   "cell_type": "markdown",
   "id": "17b28eda",
   "metadata": {},
   "source": [
    "У человека вообще СС -> GG(принцип комплементарности) -> т.е. этот генотип не показывает повышение риска к тромбозу"
   ]
  },
  {
   "cell_type": "code",
   "execution_count": 108,
   "id": "67c7a974",
   "metadata": {
    "scrolled": true
   },
   "outputs": [
    {
     "data": {
      "text/html": [
       "<div>\n",
       "<style scoped>\n",
       "    .dataframe tbody tr th:only-of-type {\n",
       "        vertical-align: middle;\n",
       "    }\n",
       "\n",
       "    .dataframe tbody tr th {\n",
       "        vertical-align: top;\n",
       "    }\n",
       "\n",
       "    .dataframe thead th {\n",
       "        text-align: right;\n",
       "    }\n",
       "</style>\n",
       "<table border=\"1\" class=\"dataframe\">\n",
       "  <thead>\n",
       "    <tr style=\"text-align: right;\">\n",
       "      <th></th>\n",
       "      <th>rsid</th>\n",
       "      <th>chromosome</th>\n",
       "      <th>position</th>\n",
       "      <th>genotype</th>\n",
       "    </tr>\n",
       "  </thead>\n",
       "  <tbody>\n",
       "  </tbody>\n",
       "</table>\n",
       "</div>"
      ],
      "text/plain": [
       "Empty DataFrame\n",
       "Columns: [rsid, chromosome, position, genotype]\n",
       "Index: []"
      ]
     },
     "execution_count": 108,
     "metadata": {},
     "output_type": "execute_result"
    }
   ],
   "source": [
    "df.loc[df['rsid'] == 'rs1799963']"
   ]
  },
  {
   "cell_type": "markdown",
   "id": "d03fd240",
   "metadata": {},
   "source": [
    "А этого snp просто нет"
   ]
  },
  {
   "cell_type": "code",
   "execution_count": 109,
   "id": "ae5da613",
   "metadata": {},
   "outputs": [
    {
     "data": {
      "text/html": [
       "<div>\n",
       "<style scoped>\n",
       "    .dataframe tbody tr th:only-of-type {\n",
       "        vertical-align: middle;\n",
       "    }\n",
       "\n",
       "    .dataframe tbody tr th {\n",
       "        vertical-align: top;\n",
       "    }\n",
       "\n",
       "    .dataframe thead th {\n",
       "        text-align: right;\n",
       "    }\n",
       "</style>\n",
       "<table border=\"1\" class=\"dataframe\">\n",
       "  <thead>\n",
       "    <tr style=\"text-align: right;\">\n",
       "      <th></th>\n",
       "      <th>rsid</th>\n",
       "      <th>chromosome</th>\n",
       "      <th>position</th>\n",
       "      <th>genotype</th>\n",
       "    </tr>\n",
       "  </thead>\n",
       "  <tbody>\n",
       "    <tr>\n",
       "      <th>355588</th>\n",
       "      <td>rs8176719</td>\n",
       "      <td>9</td>\n",
       "      <td>136132909</td>\n",
       "      <td>DI</td>\n",
       "    </tr>\n",
       "  </tbody>\n",
       "</table>\n",
       "</div>"
      ],
      "text/plain": [
       "             rsid chromosome   position genotype\n",
       "355588  rs8176719          9  136132909       DI"
      ]
     },
     "execution_count": 109,
     "metadata": {},
     "output_type": "execute_result"
    }
   ],
   "source": [
    "df.loc[df['rsid'] == 'rs8176719']"
   ]
  },
  {
   "cell_type": "markdown",
   "id": "8c434cc5",
   "metadata": {},
   "source": [
    "![Title](PicturesForMainor/pic9.jpg)"
   ]
  },
  {
   "cell_type": "markdown",
   "id": "4a3b161f",
   "metadata": {},
   "source": [
    "DI -> не расматриваем (так сказал семинарист)"
   ]
  },
  {
   "cell_type": "code",
   "execution_count": 110,
   "id": "9570834c",
   "metadata": {},
   "outputs": [
    {
     "data": {
      "text/html": [
       "<div>\n",
       "<style scoped>\n",
       "    .dataframe tbody tr th:only-of-type {\n",
       "        vertical-align: middle;\n",
       "    }\n",
       "\n",
       "    .dataframe tbody tr th {\n",
       "        vertical-align: top;\n",
       "    }\n",
       "\n",
       "    .dataframe thead th {\n",
       "        text-align: right;\n",
       "    }\n",
       "</style>\n",
       "<table border=\"1\" class=\"dataframe\">\n",
       "  <thead>\n",
       "    <tr style=\"text-align: right;\">\n",
       "      <th></th>\n",
       "      <th>rsid</th>\n",
       "      <th>chromosome</th>\n",
       "      <th>position</th>\n",
       "      <th>genotype</th>\n",
       "    </tr>\n",
       "  </thead>\n",
       "  <tbody>\n",
       "    <tr>\n",
       "      <th>175096</th>\n",
       "      <td>rs2066865</td>\n",
       "      <td>4</td>\n",
       "      <td>155525276</td>\n",
       "      <td>AG</td>\n",
       "    </tr>\n",
       "  </tbody>\n",
       "</table>\n",
       "</div>"
      ],
      "text/plain": [
       "             rsid chromosome   position genotype\n",
       "175096  rs2066865          4  155525276       AG"
      ]
     },
     "execution_count": 110,
     "metadata": {},
     "output_type": "execute_result"
    }
   ],
   "source": [
    "df.loc[df['rsid'] == 'rs2066865']"
   ]
  },
  {
   "cell_type": "markdown",
   "id": "97fb433b",
   "metadata": {},
   "source": [
    "![Title](PicturesForMainor/pic10.jpg)"
   ]
  },
  {
   "cell_type": "markdown",
   "id": "fc049273",
   "metadata": {},
   "source": [
    "AG -> TC -> гетерозиготная форма полиморфизма, т.е может быть повышен риск к тромбозу судя по этому snp"
   ]
  },
  {
   "cell_type": "code",
   "execution_count": 115,
   "id": "2af12950",
   "metadata": {
    "scrolled": true
   },
   "outputs": [
    {
     "data": {
      "text/html": [
       "<div>\n",
       "<style scoped>\n",
       "    .dataframe tbody tr th:only-of-type {\n",
       "        vertical-align: middle;\n",
       "    }\n",
       "\n",
       "    .dataframe tbody tr th {\n",
       "        vertical-align: top;\n",
       "    }\n",
       "\n",
       "    .dataframe thead th {\n",
       "        text-align: right;\n",
       "    }\n",
       "</style>\n",
       "<table border=\"1\" class=\"dataframe\">\n",
       "  <thead>\n",
       "    <tr style=\"text-align: right;\">\n",
       "      <th></th>\n",
       "      <th>rsid</th>\n",
       "      <th>chromosome</th>\n",
       "      <th>position</th>\n",
       "      <th>genotype</th>\n",
       "    </tr>\n",
       "  </thead>\n",
       "  <tbody>\n",
       "    <tr>\n",
       "      <th>182589</th>\n",
       "      <td>rs2036914</td>\n",
       "      <td>4</td>\n",
       "      <td>187192481</td>\n",
       "      <td>CT</td>\n",
       "    </tr>\n",
       "  </tbody>\n",
       "</table>\n",
       "</div>"
      ],
      "text/plain": [
       "             rsid chromosome   position genotype\n",
       "182589  rs2036914          4  187192481       CT"
      ]
     },
     "execution_count": 115,
     "metadata": {},
     "output_type": "execute_result"
    }
   ],
   "source": [
    "df.loc[df['rsid'] == 'rs2036914']"
   ]
  },
  {
   "cell_type": "markdown",
   "id": "e2e26833",
   "metadata": {},
   "source": [
    "![Title](PicturesForMainor/pic11.jpg)"
   ]
  },
  {
   "cell_type": "markdown",
   "id": "8832380f",
   "metadata": {},
   "source": [
    "Ну хоть что-то понятное. Получается, что этот генотип СТ говорит о том, что риск тромбоза выше в 1.16 раз чем у людей с генотипом СС, но генотип ТТ ещё выше риск тромбоза (в 1.32 чем у СС)"
   ]
  },
  {
   "cell_type": "markdown",
   "id": "29f702f9",
   "metadata": {},
   "source": [
    "номер 3"
   ]
  },
  {
   "cell_type": "code",
   "execution_count": 112,
   "id": "d68d3754",
   "metadata": {},
   "outputs": [
    {
     "data": {
      "text/html": [
       "<div>\n",
       "<style scoped>\n",
       "    .dataframe tbody tr th:only-of-type {\n",
       "        vertical-align: middle;\n",
       "    }\n",
       "\n",
       "    .dataframe tbody tr th {\n",
       "        vertical-align: top;\n",
       "    }\n",
       "\n",
       "    .dataframe thead th {\n",
       "        text-align: right;\n",
       "    }\n",
       "</style>\n",
       "<table border=\"1\" class=\"dataframe\">\n",
       "  <thead>\n",
       "    <tr style=\"text-align: right;\">\n",
       "      <th></th>\n",
       "      <th>rsid</th>\n",
       "      <th>chromosome</th>\n",
       "      <th>position</th>\n",
       "      <th>genotype</th>\n",
       "    </tr>\n",
       "  </thead>\n",
       "  <tbody>\n",
       "    <tr>\n",
       "      <th>104213</th>\n",
       "      <td>rs53576</td>\n",
       "      <td>3</td>\n",
       "      <td>8804371</td>\n",
       "      <td>AA</td>\n",
       "    </tr>\n",
       "  </tbody>\n",
       "</table>\n",
       "</div>"
      ],
      "text/plain": [
       "           rsid chromosome  position genotype\n",
       "104213  rs53576          3   8804371       AA"
      ]
     },
     "execution_count": 112,
     "metadata": {},
     "output_type": "execute_result"
    }
   ],
   "source": [
    "df.loc[df['rsid'] == 'rs53576']"
   ]
  },
  {
   "cell_type": "markdown",
   "id": "ae2a2fe4",
   "metadata": {},
   "source": [
    "![Title](PicturesForMainor/pic5.jpg)"
   ]
  },
  {
   "cell_type": "markdown",
   "id": "4686acdf",
   "metadata": {},
   "source": [
    "rs53576 является молчаливым ответом на изменение в гене рецептора окситоцина (OXTR). Исследования показали, что люди с аллелем G более чутки, чувствуют себя менее одинокими, используют более чувствительные методы воспитания и имеют более низкие показатели аутизма"
   ]
  },
  {
   "cell_type": "markdown",
   "id": "756adbe2",
   "metadata": {},
   "source": [
    "Получается, что у данного человека генотип АА, т.е отсутствие сочувствия :(\n"
   ]
  },
  {
   "cell_type": "markdown",
   "id": "a1b9db89",
   "metadata": {},
   "source": [
    "номер 4"
   ]
  },
  {
   "cell_type": "code",
   "execution_count": 113,
   "id": "206a4617",
   "metadata": {},
   "outputs": [
    {
     "data": {
      "text/html": [
       "<div>\n",
       "<style scoped>\n",
       "    .dataframe tbody tr th:only-of-type {\n",
       "        vertical-align: middle;\n",
       "    }\n",
       "\n",
       "    .dataframe tbody tr th {\n",
       "        vertical-align: top;\n",
       "    }\n",
       "\n",
       "    .dataframe thead th {\n",
       "        text-align: right;\n",
       "    }\n",
       "</style>\n",
       "<table border=\"1\" class=\"dataframe\">\n",
       "  <thead>\n",
       "    <tr style=\"text-align: right;\">\n",
       "      <th></th>\n",
       "      <th>rsid</th>\n",
       "      <th>chromosome</th>\n",
       "      <th>position</th>\n",
       "      <th>genotype</th>\n",
       "    </tr>\n",
       "  </thead>\n",
       "  <tbody>\n",
       "    <tr>\n",
       "      <th>337256</th>\n",
       "      <td>rs1333049</td>\n",
       "      <td>9</td>\n",
       "      <td>22125503</td>\n",
       "      <td>CC</td>\n",
       "    </tr>\n",
       "  </tbody>\n",
       "</table>\n",
       "</div>"
      ],
      "text/plain": [
       "             rsid chromosome  position genotype\n",
       "337256  rs1333049          9  22125503       CC"
      ]
     },
     "execution_count": 113,
     "metadata": {},
     "output_type": "execute_result"
    }
   ],
   "source": [
    "df.loc[df['rsid'] == 'rs1333049']"
   ]
  },
  {
   "cell_type": "markdown",
   "id": "c5dd5ef6",
   "metadata": {},
   "source": [
    "![Title](PicturesForMainor/pic6.jpg)"
   ]
  },
  {
   "cell_type": "markdown",
   "id": "c188dafb",
   "metadata": {},
   "source": [
    "в крупном исследовании сообщалось, что rs1333049 связан с заболеваниями сердца, в частности с ишемической болезнью сердца"
   ]
  },
  {
   "cell_type": "markdown",
   "id": "bbff3b19",
   "metadata": {},
   "source": [
    "И опять этому человечку неповезло, потому что у него генотип СС -> т.е в 1,9 раза повышенный риск развития ишемической болезни сердца"
   ]
  },
  {
   "cell_type": "markdown",
   "id": "5fd80ec7",
   "metadata": {},
   "source": [
    "номер 5"
   ]
  },
  {
   "cell_type": "code",
   "execution_count": 114,
   "id": "4375f3a3",
   "metadata": {},
   "outputs": [
    {
     "data": {
      "text/html": [
       "<div>\n",
       "<style scoped>\n",
       "    .dataframe tbody tr th:only-of-type {\n",
       "        vertical-align: middle;\n",
       "    }\n",
       "\n",
       "    .dataframe tbody tr th {\n",
       "        vertical-align: top;\n",
       "    }\n",
       "\n",
       "    .dataframe thead th {\n",
       "        text-align: right;\n",
       "    }\n",
       "</style>\n",
       "<table border=\"1\" class=\"dataframe\">\n",
       "  <thead>\n",
       "    <tr style=\"text-align: right;\">\n",
       "      <th></th>\n",
       "      <th>rsid</th>\n",
       "      <th>chromosome</th>\n",
       "      <th>position</th>\n",
       "      <th>genotype</th>\n",
       "    </tr>\n",
       "  </thead>\n",
       "  <tbody>\n",
       "    <tr>\n",
       "      <th>260293</th>\n",
       "      <td>rs1799971</td>\n",
       "      <td>6</td>\n",
       "      <td>154360797</td>\n",
       "      <td>AA</td>\n",
       "    </tr>\n",
       "  </tbody>\n",
       "</table>\n",
       "</div>"
      ],
      "text/plain": [
       "             rsid chromosome   position genotype\n",
       "260293  rs1799971          6  154360797       AA"
      ]
     },
     "execution_count": 114,
     "metadata": {},
     "output_type": "execute_result"
    }
   ],
   "source": [
    "df.loc[df['rsid'] == 'rs1799971']"
   ]
  },
  {
   "cell_type": "markdown",
   "id": "e49001ff",
   "metadata": {},
   "source": [
    "![Title](PicturesForMainor/pic7.jpg)"
   ]
  },
  {
   "cell_type": "markdown",
   "id": "746ca32d",
   "metadata": {},
   "source": [
    "Носители по крайней мере одного аллеля rs1799971(G), по-видимому, имеют более сильную тягу к алкоголю, чем носители двух аллелей rs1799971(A), и, таким образом, предполагается, что они подвергаются более высокому риску алкоголизма."
   ]
  },
  {
   "cell_type": "markdown",
   "id": "a9711143",
   "metadata": {},
   "source": [
    "Ура, хоть тут удача, генотип АА у этого человека говорит о том, что у него невысокий риск алкоголизма"
   ]
  }
 ],
 "metadata": {
  "kernelspec": {
   "display_name": "Python 3 (ipykernel)",
   "language": "python",
   "name": "python3"
  },
  "language_info": {
   "codemirror_mode": {
    "name": "ipython",
    "version": 3
   },
   "file_extension": ".py",
   "mimetype": "text/x-python",
   "name": "python",
   "nbconvert_exporter": "python",
   "pygments_lexer": "ipython3",
   "version": "3.10.2"
  }
 },
 "nbformat": 4,
 "nbformat_minor": 5
}
